{
  "nbformat": 4,
  "nbformat_minor": 0,
  "metadata": {
    "colab": {
      "name": "Bitumen.ipynb",
      "version": "0.3.2",
      "provenance": [],
      "include_colab_link": true
    },
    "kernelspec": {
      "name": "python3",
      "display_name": "Python 3"
    }
  },
  "cells": [
    {
      "cell_type": "markdown",
      "metadata": {
        "id": "view-in-github",
        "colab_type": "text"
      },
      "source": [
        "<a href=\"https://colab.research.google.com/github/scienclick/src/blob/master/Bitumen.ipynb\" target=\"_parent\"><img src=\"https://colab.research.google.com/assets/colab-badge.svg\" alt=\"Open In Colab\"/></a>"
      ]
    },
    {
      "metadata": {
        "id": "f7GdzX5nifN3",
        "colab_type": "code",
        "colab": {}
      },
      "cell_type": "code",
      "source": [
        "import numpy as np"
      ],
      "execution_count": 0,
      "outputs": []
    },
    {
      "metadata": {
        "id": "xOv8qMLlhcal",
        "colab_type": "code",
        "colab": {}
      },
      "cell_type": "code",
      "source": [
        "\n",
        "# <editor-fold desc=\"variables definition\">\n",
        "components = ['Brine', 'Bitumen', 'Gas']\n",
        "tc_mob = 80.00\n",
        "a = 30\n",
        "freq_dflt = 150\n",
        "\n",
        "# 2nd block -- variables\n",
        "rs = 0.01      #solution gas ratio scf/STB\n",
        "g_g = 0.7      # gas gravity\n",
        "\n",
        "\n",
        "rho_quartz = 2.65 #gr/cc\n",
        "k_quartz = 36. # GPa\n",
        "mu_quartz = 44. # GPa\n",
        "k_shale_global = 8.97 #GPa\n",
        "mu_shale_global = 1.63 #GPa\n",
        "rho_matrix = 2.65 #gr/cc\n",
        "\n",
        "###################\n",
        "stbl_param = 0.75 # orig: 0.566\n",
        "stbl_param2 = 1.15 # orig: 1.131\n",
        "###################\n",
        "\n",
        "javan_coeff = {'B': [0.01859, 0.1922, 0.56221],\n",
        "               'C': [0, 0.00835, 0.07514],\n",
        "               'mu-max': 0.826,\n",
        "               'K-par': [1.08, 0.92],\n",
        "               'mu-par': [1.07, 0.57],\n",
        "               'A': 0.104,\n",
        "               'mua-m': 0.27,\n",
        "               'So-n': 0.14,\n",
        "               'Phi-p': -1.9,\n",
        "               'Mudry-q': -1.76,\n",
        "               'A2': 0.088,\n",
        "               'mua-m2': 0.669,\n",
        "               'So-n2': 0.28,\n",
        "               'Phi-p2': -4.466,\n",
        "               'Musat-q2': -3.063}\n"
      ],
      "execution_count": 0,
      "outputs": []
    },
    {
      "metadata": {
        "id": "FGJ66KVSifmN",
        "colab_type": "code",
        "colab": {}
      },
      "cell_type": "code",
      "source": [
        "'''\n",
        "input:api\n",
        "output: rho_0\n",
        "'''\n",
        "api=10\n",
        "rho_0=141.5 /(api + 131.5)"
      ],
      "execution_count": 0,
      "outputs": []
    },
    {
      "metadata": {
        "id": "SrIbvXwph7-b",
        "colab_type": "code",
        "colab": {
          "base_uri": "https://localhost:8080/",
          "height": 34
        },
        "outputId": "4f395aa5-6bca-4e72-a9b1-4a93c5d5e641"
      },
      "cell_type": "code",
      "source": [
        "\n",
        "'''\n",
        "inputs: p_pore, api, tc \n",
        "outputs: bitumen density\n",
        "  '''\n",
        "p_pore=2.5  #psi bar or kb, Gp\n",
        "api=10\n",
        "tc=30\n",
        "\n",
        "rho_p = rho_0 + (0.00277 * p_pore - 1.71e-7 * np.power(p_pore, 3)) * np.power((rho_0 - 1.15), 2) + 0.000349 * p_pore\n",
        "\n",
        "bitumen_density=rho_p / (0.972 + 0.000381 * np.power((tc + 17.78), 1.175))\n",
        "\n",
        "print(bitumen_density)\n"
      ],
      "execution_count": 24,
      "outputs": [
        {
          "output_type": "stream",
          "text": [
            "0.9932679730761929\n"
          ],
          "name": "stdout"
        }
      ]
    },
    {
      "metadata": {
        "id": "oUci0LlljHVU",
        "colab_type": "code",
        "colab": {
          "base_uri": "https://localhost:8080/",
          "height": 34
        },
        "outputId": "2c392986-1561-4880-8b05-d59df81735e9"
      },
      "cell_type": "code",
      "source": [
        "\n",
        "'''\n",
        "viscosity(api, tc):\n",
        "\n",
        "'''\n",
        "api=10\n",
        "tc=30\n",
        "\n",
        "temp_faren=tc*1.8+32\n",
        "viscosity=np.power(10, (-1.23667 * api + 29.6079)) * np.power(temp_faren, (0.465549 * api - 11.09838))\n",
        "print(viscosity)"
      ],
      "execution_count": 25,
      "outputs": [
        {
          "output_type": "stream",
          "text": [
            "59901.71733764903\n"
          ],
          "name": "stdout"
        }
      ]
    },
    {
      "metadata": {
        "id": "0dzSnC6FkIpC",
        "colab_type": "code",
        "colab": {
          "base_uri": "https://localhost:8080/",
          "height": 34
        },
        "outputId": "07c9f868-1224-44bb-b9ed-12001be11856"
      },
      "cell_type": "code",
      "source": [
        "'''\n",
        "ln_relaxation_time(freq):\n",
        "'''\n",
        "freq=60\n",
        "omega=(2 * np.pi * freq)\n",
        "ln_relaxation_time=np.log((viscosity * 0.000000000001 / 0.826 ))\n",
        "\n",
        "print(ln_relaxation_time)"
      ],
      "execution_count": 17,
      "outputs": [
        {
          "output_type": "stream",
          "text": [
            "-16.439400156697214\n"
          ],
          "name": "stdout"
        }
      ]
    },
    {
      "metadata": {
        "id": "Eic1CH-ekwPk",
        "colab_type": "code",
        "colab": {
          "base_uri": "https://localhost:8080/",
          "height": 34
        },
        "outputId": "4ea77408-f2f6-420f-9209-bfd28d4b150e"
      },
      "cell_type": "code",
      "source": [
        "'''\n",
        "shear_modulus\n",
        "'''\n",
        "B=0.01859*temp_faren+0.1922*np.log10(viscosity)+ 0.56221\n",
        "C=0.00835*np.log10(viscosity)+0.07514\n",
        "\n",
        "shear_modulus=0.826 * np.exp(-B* np.exp(-C * ln_relaxation_time))\n",
        "\n",
        "print(shear_modulus)"
      ],
      "execution_count": 15,
      "outputs": [
        {
          "output_type": "stream",
          "text": [
            "1.137109723959188e-09\n"
          ],
          "name": "stdout"
        }
      ]
    },
    {
      "metadata": {
        "id": "-ggUupNkoZUg",
        "colab_type": "code",
        "colab": {
          "base_uri": "https://localhost:8080/",
          "height": 34
        },
        "outputId": "89d83869-1920-4893-c122-e389f5d44181"
      },
      "cell_type": "code",
      "source": [
        "    \"\"\"\n",
        "    Fluid bulk modulus\n",
        "    :param p_pore:\n",
        "    :param api:\n",
        "    :param freq:\n",
        "    :param tc:\n",
        "    :return:\n",
        "    \"\"\"\n",
        "k_bitumen_batzle=12 #Gpa\n",
        "  \n",
        "javanbakhti_k= 1.08 * np.power(k_bitumen_batzle, 0.92) +1.07 * np.power(shear_modulus, 0.57)\n",
        "\n",
        "print(shear_modulus)"
      ],
      "execution_count": 16,
      "outputs": [
        {
          "output_type": "stream",
          "text": [
            "1.137109723959188e-09\n"
          ],
          "name": "stdout"
        }
      ]
    },
    {
      "metadata": {
        "id": "uUVmWOL4qQTb",
        "colab_type": "code",
        "colab": {
          "base_uri": "https://localhost:8080/",
          "height": 34
        },
        "outputId": "ed92c371-814b-4e2e-9234-a8837d3a3d0f"
      },
      "cell_type": "code",
      "source": [
        "'''\n",
        "inputs: mu_dry, \n",
        "        mu_a, \n",
        "        phi, \n",
        "        so\n",
        "output: javanbakhti_mu_sat\n",
        "'''\n",
        "mu_a=shear_modulus\n",
        "stbl_param = 0.75 # orig: 0.566\n",
        "phi=.25\n",
        "mu_dry=18\n",
        "\n",
        "r_max = stbl_param\n",
        "\n",
        "phi = phi * np.ones_like(r_max)\n",
        "so=.6\n",
        "\n",
        "#for phi>0.3 what about less than that?\n",
        "\n",
        "rhs = (0.104 *\n",
        "           np.power(mu_a, 0.27) *\n",
        "           np.power(so, 0.14) *\n",
        "           np.power(phi, -1.9) *\n",
        "           np.power(mu_dry, -1.76))\n",
        "  \n",
        "javanbakhti_mu_sat=np.reciprocal((1 / mu_dry) - rhs)\n",
        "print(javanbakhti_mu_sat)\n"
      ],
      "execution_count": 29,
      "outputs": [
        {
          "output_type": "stream",
          "text": [
            "18.010386544082785\n"
          ],
          "name": "stdout"
        }
      ]
    },
    {
      "metadata": {
        "id": "40Z7q4F5uiKG",
        "colab_type": "code",
        "colab": {
          "base_uri": "https://localhost:8080/",
          "height": 34
        },
        "outputId": "88ab2318-7791-44aa-e269-783a2615766a"
      },
      "cell_type": "code",
      "source": [
        "#ciz_shapiro(mod_dry, mod_fl, phi, mod0):\n",
        "    \"\"\"this is basically general form of the Gassmann's equation. Can be used for calculating either sat. bulk or\n",
        "    sat. shear modulus of the rock.\n",
        "    mod: elastic modulus\n",
        "    mod0: matrix modulus\n",
        "    \"\"\"\n",
        "\n",
        "mu_sat=javanbakhti_mu_sat\n",
        "mod_fl=shear_modulus\n",
        "mod_dry=12\n",
        "mod0=30\n",
        "rhs=np.power(1/mod_dry - 1/mod0, 2) / (phi * (1/(mod_fl - 1/(mod0) + (1/(mod_dry)))) - 1/(mod0))\n",
        "rhs = np.power(1/(mod_dry) - 1/(mod0), 2) / (phi * (1/(mod_fl) - 1/(mod0)) + (1/(mod_dry) - 1/(mod0)))\n",
        "ciz_shapiro_mu_sat=1/((1 / mu_sat) + rhs)\n",
        "print(ciz_shapiro_mu_sat)"
      ],
      "execution_count": 31,
      "outputs": [
        {
          "output_type": "stream",
          "text": [
            "18.010386540394297\n"
          ],
          "name": "stdout"
        }
      ]
    },
    {
      "metadata": {
        "id": "tTsADygxxuBY",
        "colab_type": "code",
        "colab": {}
      },
      "cell_type": "code",
      "source": [
        ""
      ],
      "execution_count": 0,
      "outputs": []
    }
  ]
}